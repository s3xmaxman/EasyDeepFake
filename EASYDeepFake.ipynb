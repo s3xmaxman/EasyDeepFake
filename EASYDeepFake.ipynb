{
  "nbformat": 4,
  "nbformat_minor": 0,
  "metadata": {
    "colab": {
      "provenance": [],
      "gpuType": "T4",
      "include_colab_link": true
    },
    "kernelspec": {
      "name": "python3",
      "display_name": "Python 3"
    },
    "language_info": {
      "name": "python"
    },
    "accelerator": "GPU"
  },
  "cells": [
    {
      "cell_type": "markdown",
      "metadata": {
        "id": "view-in-github",
        "colab_type": "text"
      },
      "source": [
        "<a href=\"https://colab.research.google.com/github/s3xmaxman/EasyDeepFake/blob/main/EASYDeepFake.ipynb\" target=\"_parent\"><img src=\"https://colab.research.google.com/assets/colab-badge.svg\" alt=\"Open In Colab\"/></a>"
      ]
    },
    {
      "cell_type": "code",
      "execution_count": null,
      "metadata": {
        "id": "ZYNKPQKZFd9E",
        "cellView": "form"
      },
      "outputs": [],
      "source": [
        "#@title **Install/インストール**\n",
        "!git clone https://github.com/s0md3v/roop.git\n",
        "%cd roop\n",
        "!pip install onnxruntime-gpu && pip install -r requirements.txt\n",
        "!wget https://huggingface.co/MonsterMMORPG/SECourses/resolve/main/inswapper_128.onnx\n",
        "%cd /content\n",
        "!rm -rf CodeFormer\n",
        "!git clone https://github.com/cedro3/CodeFormer.git\n",
        "\n",
        "%cd CodeFormer\n",
        "!pip install -r requirements.txt\n",
        "!python basicsr/setup.py develop\n",
        "\n",
        "!python scripts/download_pretrained_models.py facelib\n",
        "!python scripts/download_pretrained_models.py CodeFormer\n",
        "\n",
        "from function import *\n",
        "\n",
        "! mkdir download\n",
        "%cd /content/roop"
      ]
    },
    {
      "cell_type": "code",
      "source": [
        "!python run.py -f face.png -t video.mp4 -o face_changed_video.mp4 --keep-frames --keep-fps --gpu"
      ],
      "metadata": {
        "id": "RUqtBqGTyike"
      },
      "execution_count": null,
      "outputs": []
    },
    {
      "cell_type": "code",
      "source": [
        "#@title **Loding Movie/動画の読み込み**\n",
        "#@markdown ■60seconds or less(in case of 30fps)/60秒以内（30fpsの場合）として下さい\n",
        "!cp /content/roop/face_changed_video.mp4 /content/CodeFormer/movie\n",
        "%cd /content/CodeFormer\n",
        "# 設定\n",
        "video = 'face_changed_video.mp4'\n",
        "video_file = 'movie/'+video\n",
        "image_dir='inputs/frame/'\n",
        "image_file='%s.png'\n",
        "\n",
        "# video_2_images\n",
        "reset_folder('inputs/frame')\n",
        "fps, i, interval = video_2_images(video_file, image_dir, image_file)\n",
        "\n",
        "# スタートフレーム表示\n",
        "from google.colab.patches import cv2_imshow\n",
        "img = cv2.imread('inputs/frame/000000.png')\n",
        "cv2_imshow(img)\n",
        "\n",
        "# パラメータ表示\n",
        "print('fps = ', fps)\n",
        "print('frames = ', i)\n",
        "print('interval = ', interval)"
      ],
      "metadata": {
        "cellView": "form",
        "id": "wYWS1vTPUPsn"
      },
      "execution_count": null,
      "outputs": []
    },
    {
      "cell_type": "code",
      "source": [
        "from types import FrameType\n",
        "#@title **Higher resolution/高画質化**\n",
        "#@markdown　■CodeFormer Weight/ CodeFormerのウェイト\n",
        "\n",
        "# 設定\n",
        "input_folder = 'inputs/frame'\n",
        "w = 0.5 #@param {type:\"slider\", min:0.1, max:0.9, step:0.1}\n",
        "reset_folder('results/frame_'+str(w))\n",
        "\n",
        "# フレームの高画質化\n",
        "! python inference_codeformer.py --w $w\\\n",
        "                                  --test_path $input_folder\\\n",
        "                                  --bg_upsampler realesrgan\\\n",
        "                                  --face_upsample\n",
        "\n",
        "# ログ・クリア\n",
        "clear_output()\n",
        "\n",
        "# 動画の作成\n",
        "print('makeing movie...')\n",
        "fps_r = fps/interval\n",
        "file_path = 'results/frame_'+str(w)+'/final_results/%06d.png'\n",
        "! ffmpeg -y -r $fps_r -i $file_path -vcodec libx264 -pix_fmt yuv420p -loglevel error out.mp4\n",
        "\n",
        "# 音声の抽出・付加\n",
        "print('preparation for sound...')\n",
        "! ffmpeg -y -i $video_file -loglevel error sound.mp3\n",
        "! ffmpeg -y -i out.mp4 -i sound.mp3 -loglevel error output.mp4\n",
        "\n",
        "# 動画の再生\n",
        "print('waiting for play movie...')\n",
        "display_mp4('output.mp4')"
      ],
      "metadata": {
        "cellView": "form",
        "id": "Oe2mAfRgU2qm"
      },
      "execution_count": null,
      "outputs": []
    },
    {
      "cell_type": "code",
      "source": [
        "#@title **Download/ダウンロード**\n",
        "from google.colab import files\n",
        "import shutil\n",
        "\n",
        "dst_filepath = 'download/'+os.path.splitext(video)[0]+'_s.mp4'\n",
        "shutil.copy('output.mp4', dst_filepath)\n",
        "files.download(dst_filepath)"
      ],
      "metadata": {
        "colab": {
          "base_uri": "https://localhost:8080/",
          "height": 17
        },
        "cellView": "form",
        "id": "m40_KWQAW42r",
        "outputId": "ef78b11d-5ec7-46a3-bd73-a3332993189e"
      },
      "execution_count": null,
      "outputs": [
        {
          "output_type": "display_data",
          "data": {
            "text/plain": [
              "<IPython.core.display.Javascript object>"
            ],
            "application/javascript": [
              "\n",
              "    async function download(id, filename, size) {\n",
              "      if (!google.colab.kernel.accessAllowed) {\n",
              "        return;\n",
              "      }\n",
              "      const div = document.createElement('div');\n",
              "      const label = document.createElement('label');\n",
              "      label.textContent = `Downloading \"${filename}\": `;\n",
              "      div.appendChild(label);\n",
              "      const progress = document.createElement('progress');\n",
              "      progress.max = size;\n",
              "      div.appendChild(progress);\n",
              "      document.body.appendChild(div);\n",
              "\n",
              "      const buffers = [];\n",
              "      let downloaded = 0;\n",
              "\n",
              "      const channel = await google.colab.kernel.comms.open(id);\n",
              "      // Send a message to notify the kernel that we're ready.\n",
              "      channel.send({})\n",
              "\n",
              "      for await (const message of channel.messages) {\n",
              "        // Send a message to notify the kernel that we're ready.\n",
              "        channel.send({})\n",
              "        if (message.buffers) {\n",
              "          for (const buffer of message.buffers) {\n",
              "            buffers.push(buffer);\n",
              "            downloaded += buffer.byteLength;\n",
              "            progress.value = downloaded;\n",
              "          }\n",
              "        }\n",
              "      }\n",
              "      const blob = new Blob(buffers, {type: 'application/binary'});\n",
              "      const a = document.createElement('a');\n",
              "      a.href = window.URL.createObjectURL(blob);\n",
              "      a.download = filename;\n",
              "      div.appendChild(a);\n",
              "      a.click();\n",
              "      div.remove();\n",
              "    }\n",
              "  "
            ]
          },
          "metadata": {}
        },
        {
          "output_type": "display_data",
          "data": {
            "text/plain": [
              "<IPython.core.display.Javascript object>"
            ],
            "application/javascript": [
              "download(\"download_3e429f61-6592-4e2d-b891-43d11aea6377\", \"face_changed_video_s.mp4\", 10333978)"
            ]
          },
          "metadata": {}
        }
      ]
    }
  ]
}